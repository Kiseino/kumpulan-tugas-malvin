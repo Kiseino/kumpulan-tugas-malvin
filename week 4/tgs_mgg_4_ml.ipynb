{
  "nbformat": 4,
  "nbformat_minor": 0,
  "metadata": {
    "colab": {
      "name": "tgs_mgg_4_ml.ipynb",
      "provenance": [],
      "collapsed_sections": []
    },
    "kernelspec": {
      "name": "python3",
      "display_name": "Python 3"
    },
    "language_info": {
      "name": "python"
    }
  },
  "cells": [
    {
      "cell_type": "code",
      "metadata": {
        "id": "yZwYEYFn72rF"
      },
      "source": [
        "# Import seaborn\n",
        "import seaborn as sns\n",
        "\n",
        "# Apply the default theme\n",
        "sns.set_theme()\n",
        "\n",
        "# Load an example dataset\n",
        "tips = sns.load_dataset(\"tips\")\n",
        "\n",
        "# Create a visualization\n",
        "sns.relplot(\n",
        "    data=tips,\n",
        "    x=\"total_bill\", y=\"tip\", col=\"time\",\n",
        "    hue=\"smoker\", style=\"smoker\", size=\"size\",\n",
        ")"
      ],
      "execution_count": null,
      "outputs": []
    },
    {
      "cell_type": "code",
      "metadata": {
        "id": "sd1tqv397_W6"
      },
      "source": [
        "# Import seaborn\n",
        "import seaborn as sns"
      ],
      "execution_count": null,
      "outputs": []
    },
    {
      "cell_type": "code",
      "metadata": {
        "id": "18fnNjmr7_ba"
      },
      "source": [
        "# Apply the default theme\n",
        "sns.set_theme()"
      ],
      "execution_count": null,
      "outputs": []
    },
    {
      "cell_type": "code",
      "metadata": {
        "id": "Hh-Q0aPt7_gN"
      },
      "source": [
        "# Load an example dataset\n",
        "tips = sns.load_dataset(\"tips\")"
      ],
      "execution_count": null,
      "outputs": []
    },
    {
      "cell_type": "code",
      "metadata": {
        "id": "U-2L6CdM7_k1"
      },
      "source": [
        "# Create a visualization\n",
        "sns.relplot(\n",
        "    data=tips,\n",
        "    x=\"total_bill\", y=\"tip\", col=\"time\",\n",
        "    hue=\"smoker\", style=\"smoker\", size=\"size\",\n",
        ")"
      ],
      "execution_count": null,
      "outputs": []
    },
    {
      "cell_type": "code",
      "metadata": {
        "id": "tcQ21p1v7_oo"
      },
      "source": [
        "dots = sns.load_dataset(\"dots\")\n",
        "sns.relplot(\n",
        "    data=dots, kind=\"line\",\n",
        "    x=\"time\", y=\"firing_rate\", col=\"align\",\n",
        "    hue=\"choice\", size=\"coherence\", style=\"choice\",\n",
        "    facet_kws=dict(sharex=False),\n",
        ")"
      ],
      "execution_count": null,
      "outputs": []
    },
    {
      "cell_type": "code",
      "metadata": {
        "id": "_em9OhSU7_s-"
      },
      "source": [
        "fmri = sns.load_dataset(\"fmri\")\n",
        "sns.relplot(\n",
        "    data=fmri, kind=\"line\",\n",
        "    x=\"timepoint\", y=\"signal\", col=\"region\",\n",
        "    hue=\"event\", style=\"event\",\n",
        ")"
      ],
      "execution_count": null,
      "outputs": []
    },
    {
      "cell_type": "code",
      "metadata": {
        "id": "2a1UTj3-7_xR"
      },
      "source": [
        "sns.lmplot(data=tips, x=\"total_bill\", y=\"tip\", col=\"time\", hue=\"smoker\")"
      ],
      "execution_count": null,
      "outputs": []
    },
    {
      "cell_type": "code",
      "metadata": {
        "id": "pz-T_fZv7_1X"
      },
      "source": [
        "sns.displot(data=tips, x=\"total_bill\", col=\"time\", kde=True)"
      ],
      "execution_count": null,
      "outputs": []
    },
    {
      "cell_type": "code",
      "metadata": {
        "id": "EzzFDj7I7_5m"
      },
      "source": [
        "sns.displot(data=tips, kind=\"ecdf\", x=\"total_bill\", col=\"time\", hue=\"smoker\", rug=True)"
      ],
      "execution_count": null,
      "outputs": []
    },
    {
      "cell_type": "code",
      "metadata": {
        "id": "_qgy38gA7_9v"
      },
      "source": [
        "sns.catplot(data=tips, kind=\"swarm\", x=\"day\", y=\"total_bill\", hue=\"smoker\")"
      ],
      "execution_count": null,
      "outputs": []
    },
    {
      "cell_type": "code",
      "metadata": {
        "id": "xvvtyTQ88AB9"
      },
      "source": [
        "sns.catplot(data=tips, kind=\"violin\", x=\"day\", y=\"total_bill\", hue=\"smoker\", split=True)"
      ],
      "execution_count": null,
      "outputs": []
    },
    {
      "cell_type": "code",
      "metadata": {
        "id": "nqzPr7e38AFq"
      },
      "source": [
        "sns.catplot(data=tips, kind=\"bar\", x=\"day\", y=\"total_bill\", hue=\"smoker\")"
      ],
      "execution_count": null,
      "outputs": []
    },
    {
      "cell_type": "code",
      "metadata": {
        "id": "880VK4T08AJ8"
      },
      "source": [
        "penguins = sns.load_dataset(\"penguins\")\n",
        "sns.jointplot(data=penguins, x=\"flipper_length_mm\", y=\"bill_length_mm\", hue=\"species\")"
      ],
      "execution_count": null,
      "outputs": []
    },
    {
      "cell_type": "code",
      "metadata": {
        "id": "QCWGyztU8ANc"
      },
      "source": [
        "sns.pairplot(data=penguins, hue=\"species\")"
      ],
      "execution_count": null,
      "outputs": []
    },
    {
      "cell_type": "code",
      "metadata": {
        "id": "XI_C4xLj83AD"
      },
      "source": [
        "g = sns.PairGrid(penguins, hue=\"species\", corner=True)\n",
        "g.map_lower(sns.kdeplot, hue=None, levels=5, color=\".2\")\n",
        "g.map_lower(sns.scatterplot, marker=\"+\")\n",
        "g.map_diag(sns.histplot, element=\"step\", linewidth=0, kde=True)\n",
        "g.add_legend(frameon=True)\n",
        "g.legend.set_bbox_to_anchor((.61, .6))"
      ],
      "execution_count": null,
      "outputs": []
    },
    {
      "cell_type": "code",
      "metadata": {
        "id": "tp7T7cj283Hk"
      },
      "source": [
        "sns.relplot(\n",
        "    data=penguins,\n",
        "    x=\"bill_length_mm\", y=\"bill_depth_mm\", hue=\"body_mass_g\"\n",
        ")"
      ],
      "execution_count": null,
      "outputs": []
    },
    {
      "cell_type": "code",
      "metadata": {
        "id": "FzEcb73n83Nh"
      },
      "source": [
        "sns.set_theme(style=\"ticks\", font_scale=1.25)\n",
        "g = sns.relplot(\n",
        "    data=penguins,\n",
        "    x=\"bill_length_mm\", y=\"bill_depth_mm\", hue=\"body_mass_g\",\n",
        "    palette=\"crest\", marker=\"x\", s=100,\n",
        ")\n",
        "g.set_axis_labels(\"Bill length (mm)\", \"Bill depth (mm)\", labelpad=10)\n",
        "g.legend.set_title(\"Body mass (g)\")\n",
        "g.figure.set_size_inches(6.5, 4.5)\n",
        "g.ax.margins(.15)\n",
        "g.despine(trim=True)"
      ],
      "execution_count": null,
      "outputs": []
    },
    {
      "cell_type": "code",
      "metadata": {
        "id": "FNCKeb_c83SD"
      },
      "source": [
        ""
      ],
      "execution_count": null,
      "outputs": []
    },
    {
      "cell_type": "code",
      "metadata": {
        "id": "b8tog6ih83VZ"
      },
      "source": [
        ""
      ],
      "execution_count": null,
      "outputs": []
    },
    {
      "cell_type": "code",
      "metadata": {
        "id": "lP-F3MKc83mC"
      },
      "source": [
        ""
      ],
      "execution_count": null,
      "outputs": []
    },
    {
      "cell_type": "code",
      "metadata": {
        "id": "r4kcEotX83td"
      },
      "source": [
        ""
      ],
      "execution_count": null,
      "outputs": []
    }
  ]
}